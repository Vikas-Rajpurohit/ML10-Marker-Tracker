{
 "cells": [
  {
   "cell_type": "code",
   "execution_count": 1,
   "id": "149d1cca",
   "metadata": {},
   "outputs": [],
   "source": [
    "import cv2"
   ]
  },
  {
   "cell_type": "code",
   "execution_count": 2,
   "id": "c5bc9571",
   "metadata": {},
   "outputs": [],
   "source": [
    "def tracker(img,corners):\n",
    "    image = img.copy()\n",
    "    crns = corners[0].reshape((4, 2))\n",
    "\n",
    "    (topLeft, topRight, bottomRight, bottomLeft) = crns\n",
    "    bottomRight = (int(bottomRight[0]), int(bottomRight[1]))\n",
    "    topLeft = (int(topLeft[0]), int(topLeft[1]))\n",
    "\n",
    "    cx = int((topLeft[0] + bottomRight[0]) / 2.0)\n",
    "    cy = int((topLeft[1] + bottomRight[1]) / 2.0)\n",
    "    cv2.circle(image, (cx, cy), 4, (0, 0, 255), -1)\n",
    "\n",
    "    if cx-cX < -1:\n",
    "        xText = 'left'\n",
    "    elif cx-cX > 1:\n",
    "        xText = 'right'\n",
    "    else:\n",
    "        xText = 'center'\n",
    "\n",
    "    if cy - cY < -1:\n",
    "        yText = ' up'\n",
    "    elif cy - cY > 1:\n",
    "        yText = 'down'\n",
    "    else:\n",
    "        yText = 'center'\n",
    "\n",
    "    cv2.putText(image, xText,(topLeft[0], topLeft[1] - 10), cv2.FONT_HERSHEY_SIMPLEX, 1, (0, 255, 0), 2)\n",
    "    cv2.putText(image, yText,(topLeft[0]+120, topLeft[1] - 10), cv2.FONT_HERSHEY_SIMPLEX, 1, (0, 255, 0), 2)\n",
    "\n",
    "    top_left = (cx - 20, cy - 20)\n",
    "    bottom_right = (cx + 20, cy + 20)\n",
    "    cv2.rectangle(image, top_left, bottom_right, (0, 255, 0), 2)\n",
    "\n",
    "    cv2.line(image, (cX, cY), (cx, cy), (255, 0, 0), 2)\n",
    "    \n",
    "    return image,cx,cy"
   ]
  },
  {
   "cell_type": "code",
   "execution_count": 3,
   "id": "98f535b6",
   "metadata": {},
   "outputs": [],
   "source": [
    "# Parameters\n",
    "aruco_type = \"DICT_4X4_50\"\n",
    "arucoDict = cv2.aruco.getPredefinedDictionary(cv2.aruco.DICT_4X4_50)\n",
    "arucoParams = cv2.aruco.DetectorParameters()"
   ]
  },
  {
   "cell_type": "code",
   "execution_count": 10,
   "id": "fa370822",
   "metadata": {},
   "outputs": [],
   "source": [
    "cap = cv2.VideoCapture(0)\n",
    "ret,img = cap.read()\n",
    "\n",
    "h, w, _ = img.shape[::]\n",
    "cX = w // 2\n",
    "cY = h // 2\n",
    "xText = 'center'\n",
    "yText = 'center'\n",
    "\n",
    "frameCounter = 0\n",
    "\n",
    "path = []\n",
    "\n",
    "while cap.isOpened():\n",
    "    \n",
    "    ret,img = cap.read()\n",
    "    \n",
    "    cv2.circle(img, (cX, cY), 5, (0, 0, 255), -1)\n",
    "    \n",
    "    corners, ids, rejected = cv2.aruco.detectMarkers(img, arucoDict, parameters=arucoParams)\n",
    "    \n",
    "    # Add frameCounter for direction \n",
    "    if len(corners) == 1:\n",
    "        \n",
    "        image,cx,cy = tracker(img,corners)\n",
    "        cv2.circle(image, (cx, cy), 1, (0, 0, 255), -1)\n",
    "        \n",
    "        cv2.imshow('Marker', image)\n",
    "        \n",
    "        path.append([cx,w-cy])\n",
    "\n",
    "        cX = cx\n",
    "        cY = cy\n",
    "    \n",
    "    cv2.imshow('Image', img)\n",
    "    \n",
    "    frameCounter += 1\n",
    "    \n",
    "    if cv2.waitKey(1) & 0xFF==27:\n",
    "        break\n",
    "        \n",
    "cap.release()\n",
    "cv2.destroyAllWindows()"
   ]
  },
  {
   "cell_type": "code",
   "execution_count": 5,
   "id": "3a950f9a",
   "metadata": {},
   "outputs": [],
   "source": [
    "cap.release()\n",
    "cv2.destroyAllWindows()"
   ]
  },
  {
   "cell_type": "code",
   "execution_count": 9,
   "id": "ed87b044",
   "metadata": {},
   "outputs": [
    {
     "data": {
      "image/png": "[encoded data removed]",
      "text/plain": [
       "<Figure size 640x480 with 1 Axes>"
      ]
     },
     "metadata": {
      "needs_background": "light"
     },
     "output_type": "display_data"
    }
   ],
   "source": [
    "import matplotlib.pyplot as plt \n",
    "\n",
    "plt.figure(figsize=(8,6), dpi = 80)\n",
    "\n",
    "for x,y in path:\n",
    "    cv2.circle(img, (x,y), 1)\n",
    "\n",
    "plt.show()"
   ]
  },
  {
   "cell_type": "code",
   "execution_count": null,
   "id": "a05dd32f",
   "metadata": {},
   "outputs": [],
   "source": []
  },
  {
   "cell_type": "code",
   "execution_count": null,
   "id": "94cf214c",
   "metadata": {},
   "outputs": [],
   "source": []
  }
 ],
 "metadata": {
  "kernelspec": {
   "display_name": "Python 3 (ipykernel)",
   "language": "python",
   "name": "python3"
  },
  "language_info": {
   "codemirror_mode": {
    "name": "ipython",
    "version": 3
   },
   "file_extension": ".py",
   "mimetype": "text/x-python",
   "name": "python",
   "nbconvert_exporter": "python",
   "pygments_lexer": "ipython3",
   "version": "3.10.4"
  }
 },
 "nbformat": 4,
 "nbformat_minor": 5
}
